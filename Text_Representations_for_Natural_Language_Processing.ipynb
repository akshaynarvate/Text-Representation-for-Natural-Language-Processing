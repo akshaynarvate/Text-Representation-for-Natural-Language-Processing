{
  "nbformat": 4,
  "nbformat_minor": 0,
  "metadata": {
    "colab": {
      "name": "Text Representations for Natural Language Processing.ipynb",
      "provenance": []
    },
    "kernelspec": {
      "name": "python3",
      "display_name": "Python 3"
    },
    "language_info": {
      "name": "python"
    }
  },
  "cells": [
    {
      "cell_type": "markdown",
      "source": [
        "### Co-Occurence Matrix"
      ],
      "metadata": {
        "id": "NDrKzjoEQzSl"
      }
    },
    {
      "cell_type": "code",
      "execution_count": 1,
      "metadata": {
        "id": "94N5nhMcQG6X"
      },
      "outputs": [],
      "source": [
        "from sklearn.feature_extraction.text import CountVectorizer\n",
        "\n",
        "docs = ['product_x is awesome',\n",
        "        'product_x is better than product_y',\n",
        "        'product_x is dissapointing','product_y beats product_x by miles', \n",
        "'ill definitely recommend product_x over others']"
      ]
    },
    {
      "cell_type": "code",
      "source": [
        "# Using unbuilt stopwords to remove noise\n",
        "\n",
        "count_vectorizer = CountVectorizer(stop_words=\"english\")\n",
        "vectorized_matrix = count_vectorizer.fit_transform(docs)"
      ],
      "metadata": {
        "id": "fioB_sO8QyO9"
      },
      "execution_count": 3,
      "outputs": []
    },
    {
      "cell_type": "code",
      "source": [
        "# We can do matrix multiplication wiht the Transposed image of the same matrix\n",
        "\n",
        "co_occurence_matrix = (vectorized_matrix.T * vectorized_matrix)"
      ],
      "metadata": {
        "id": "WmP0xU8eRuXT"
      },
      "execution_count": 4,
      "outputs": []
    },
    {
      "cell_type": "code",
      "source": [
        "import pandas as pd\n",
        "\n",
        "print(pd.DataFrame(co_occurence_matrix.A,\n",
        "                   columns=count_vectorizer.get_feature_names(),\n",
        "                   index=count_vectorizer.get_feature_names()))"
      ],
      "metadata": {
        "colab": {
          "base_uri": "https://localhost:8080/"
        },
        "id": "FCGGd2kISTK5",
        "outputId": "85138e38-3976-4af9-f967-6bd0ce6a065a"
      },
      "execution_count": 7,
      "outputs": [
        {
          "output_type": "stream",
          "name": "stdout",
          "text": [
            "               awesome  beats  better  definitely  dissapointing  ill  miles  \\\n",
            "awesome              1      0       0           0              0    0      0   \n",
            "beats                0      1       0           0              0    0      1   \n",
            "better               0      0       1           0              0    0      0   \n",
            "definitely           0      0       0           1              0    1      0   \n",
            "dissapointing        0      0       0           0              1    0      0   \n",
            "ill                  0      0       0           1              0    1      0   \n",
            "miles                0      1       0           0              0    0      1   \n",
            "product_x            1      1       1           1              1    1      1   \n",
            "product_y            0      1       1           0              0    0      1   \n",
            "recommend            0      0       0           1              0    1      0   \n",
            "\n",
            "               product_x  product_y  recommend  \n",
            "awesome                1          0          0  \n",
            "beats                  1          1          0  \n",
            "better                 1          1          0  \n",
            "definitely             1          0          1  \n",
            "dissapointing          1          0          0  \n",
            "ill                    1          0          1  \n",
            "miles                  1          1          0  \n",
            "product_x              5          2          1  \n",
            "product_y              2          2          0  \n",
            "recommend              1          0          1  \n"
          ]
        },
        {
          "output_type": "stream",
          "name": "stderr",
          "text": [
            "/usr/local/lib/python3.7/dist-packages/sklearn/utils/deprecation.py:87: FutureWarning: Function get_feature_names is deprecated; get_feature_names is deprecated in 1.0 and will be removed in 1.2. Please use get_feature_names_out instead.\n",
            "  warnings.warn(msg, category=FutureWarning)\n"
          ]
        }
      ]
    },
    {
      "cell_type": "markdown",
      "source": [
        "### Word2Vec"
      ],
      "metadata": {
        "id": "ca0dsM4KUva5"
      }
    },
    {
      "cell_type": "code",
      "source": [
        "!pip install --upgrade gensim"
      ],
      "metadata": {
        "colab": {
          "base_uri": "https://localhost:8080/"
        },
        "id": "wCkYfxaRStNX",
        "outputId": "6eb2893e-053c-4d6b-f05b-304ad08bae32"
      },
      "execution_count": 8,
      "outputs": [
        {
          "output_type": "stream",
          "name": "stdout",
          "text": [
            "Requirement already satisfied: gensim in /usr/local/lib/python3.7/dist-packages (3.6.0)\n",
            "Collecting gensim\n",
            "  Downloading gensim-4.2.0-cp37-cp37m-manylinux_2_12_x86_64.manylinux2010_x86_64.whl (24.1 MB)\n",
            "\u001b[K     |████████████████████████████████| 24.1 MB 1.4 MB/s \n",
            "\u001b[?25hRequirement already satisfied: smart-open>=1.8.1 in /usr/local/lib/python3.7/dist-packages (from gensim) (6.0.0)\n",
            "Requirement already satisfied: numpy>=1.17.0 in /usr/local/lib/python3.7/dist-packages (from gensim) (1.21.6)\n",
            "Requirement already satisfied: scipy>=0.18.1 in /usr/local/lib/python3.7/dist-packages (from gensim) (1.4.1)\n",
            "Installing collected packages: gensim\n",
            "  Attempting uninstall: gensim\n",
            "    Found existing installation: gensim 3.6.0\n",
            "    Uninstalling gensim-3.6.0:\n",
            "      Successfully uninstalled gensim-3.6.0\n",
            "Successfully installed gensim-4.2.0\n"
          ]
        }
      ]
    },
    {
      "cell_type": "code",
      "source": [
        "# Word2Vec expects list of list representation of words, the outer list represents\n",
        "# the sentence, while the inner list represents the individual words in a sentence\n",
        "# Ex: [\"I love NLP\", \"NLP is awesome\"] -> [[\"I\", \"love\", \"NLP\"], [\"NLP\", \"is\", \"awesome\"]]\n",
        "\n",
        "import gensim\n",
        "sentences = [\"ML is awesome\", \"ML is a branch of AI\", \"ML and AI are used interchangably nowadays\", \n",
        "             \"nlp is a branch and AI\", \"AI has fastforwarded nlp\",\n",
        "             \"RL is also a branch of AI\", \"word2vec is a high dimensional vector space embedding\",\n",
        "            \"word2vec falls under text representation for nlp\"]"
      ],
      "metadata": {
        "id": "uy7KiTQUU8Y8"
      },
      "execution_count": 9,
      "outputs": []
    },
    {
      "cell_type": "code",
      "source": [
        "# Preprocessing sentence to convert to format expected by w2v\n",
        "\n",
        "sentences_list = []\n",
        "for i in sentences:\n",
        "    li = list(i.split(\" \"))\n",
        "    sentences_list.append(li)\n",
        "\n",
        "print(sentences_list)"
      ],
      "metadata": {
        "colab": {
          "base_uri": "https://localhost:8080/"
        },
        "id": "QUGEW2sXVX1O",
        "outputId": "e404e853-ece8-4400-ed40-bea8e632de82"
      },
      "execution_count": 12,
      "outputs": [
        {
          "output_type": "stream",
          "name": "stdout",
          "text": [
            "[['ML', 'is', 'awesome'], ['ML', 'is', 'a', 'branch', 'of', 'AI'], ['ML', 'and', 'AI', 'are', 'used', 'interchangably', 'nowadays'], ['nlp', 'is', 'a', 'branch', 'and', 'AI'], ['AI', 'has', 'fastforwarded', 'nlp'], ['RL', 'is', 'also', 'a', 'branch', 'of', 'AI'], ['word2vec', 'is', 'a', 'high', 'dimensional', 'vector', 'space', 'embedding'], ['word2vec', 'falls', 'under', 'text', 'representation', 'for', 'nlp']]\n"
          ]
        }
      ]
    },
    {
      "cell_type": "markdown",
      "source": [
        "### GloVe"
      ],
      "metadata": {
        "id": "SDHfVoEYXbgz"
      }
    },
    {
      "cell_type": "code",
      "source": [
        "import gensim.downloader as api\n",
        "\n",
        "# Lets download a 25 dimensional GloVe representation of 2 Billion tweets\n",
        "# Info on this & other embeddings : <https://nlp.stanford.edu/projects/glove/>\n",
        "# Gensim provides an awesome interface to easily download pre-trained embeddings\n",
        "# > 100MB to be downloaded\n",
        "\n",
        "twitter_glove = api.load(\"glove-twitter-25\")"
      ],
      "metadata": {
        "colab": {
          "base_uri": "https://localhost:8080/"
        },
        "id": "qyolCnBIW_FO",
        "outputId": "93522009-fb01-4664-998c-0a84b6366c91"
      },
      "execution_count": 16,
      "outputs": [
        {
          "output_type": "stream",
          "name": "stdout",
          "text": [
            "[==================================================] 100.0% 104.8/104.8MB downloaded\n"
          ]
        }
      ]
    },
    {
      "cell_type": "code",
      "source": [
        "# To find most similar words\n",
        "# Note : All outputs are lowercased. If you use upper case letters, it will throw out of vocab error\n",
        "\n",
        "twitter_glove.most_similar(\"modi\", topn=10)"
      ],
      "metadata": {
        "colab": {
          "base_uri": "https://localhost:8080/"
        },
        "id": "TLtBvEnIYVFK",
        "outputId": "166e985d-3d0f-4abd-b5a7-62fcda6a4624"
      },
      "execution_count": 17,
      "outputs": [
        {
          "output_type": "execute_result",
          "data": {
            "text/plain": [
              "[('kejriwal', 0.9501368403434753),\n",
              " ('bjp', 0.9385530352592468),\n",
              " ('arvind', 0.9274109601974487),\n",
              " ('narendra', 0.9249325394630432),\n",
              " ('nawaz', 0.9142388105392456),\n",
              " ('pmln', 0.9120966792106628),\n",
              " ('rahul', 0.9069461822509766),\n",
              " ('congress', 0.904523491859436),\n",
              " ('zardari', 0.8963413238525391),\n",
              " ('gujarat', 0.8910367488861084)]"
            ]
          },
          "metadata": {},
          "execution_count": 17
        }
      ]
    },
    {
      "cell_type": "code",
      "source": [
        "twitter_glove[\"modi\"]"
      ],
      "metadata": {
        "colab": {
          "base_uri": "https://localhost:8080/"
        },
        "id": "hcwXx6I-YsBt",
        "outputId": "95c8978a-e250-41b5-b2ae-8974bf6189b4"
      },
      "execution_count": 18,
      "outputs": [
        {
          "output_type": "execute_result",
          "data": {
            "text/plain": [
              "array([ 0.45668  ,  0.31166  , -0.61599  , -0.81725  , -1.1438   ,\n",
              "       -1.943    , -1.1992   , -0.40083  ,  0.35442  ,  0.28049  ,\n",
              "       -0.57553  , -0.10921  , -2.6641   ,  0.99871  , -0.0043145,\n",
              "       -0.65479  , -0.59466  ,  0.50801  , -0.17169  , -0.21874  ,\n",
              "        0.32743  ,  1.1411   , -0.62828  , -1.3242   , -1.7793   ],\n",
              "      dtype=float32)"
            ]
          },
          "metadata": {},
          "execution_count": 18
        }
      ]
    },
    {
      "cell_type": "code",
      "source": [
        "twitter_glove.similarity(\"modi\", \"india\")"
      ],
      "metadata": {
        "colab": {
          "base_uri": "https://localhost:8080/"
        },
        "id": "GQLAsnyaY2YB",
        "outputId": "89f67cb3-b03c-41a5-fe64-eb473d6c4cc0"
      },
      "execution_count": 19,
      "outputs": [
        {
          "output_type": "execute_result",
          "data": {
            "text/plain": [
              "0.7346285"
            ]
          },
          "metadata": {},
          "execution_count": 19
        }
      ]
    }
  ]
}